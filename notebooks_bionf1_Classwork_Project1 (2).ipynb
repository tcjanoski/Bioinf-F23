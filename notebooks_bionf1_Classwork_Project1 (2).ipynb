{
  "metadata": {
    "toc-autonumbering": true,
    "toc-showcode": true,
    "language_info": {
      "codemirror_mode": {
        "name": "python",
        "version": 3
      },
      "file_extension": ".py",
      "mimetype": "text/x-python",
      "name": "python",
      "nbconvert_exporter": "python",
      "pygments_lexer": "ipython3",
      "version": "3.8"
    },
    "kernelspec": {
      "name": "python",
      "display_name": "Python (Pyodide)",
      "language": "python"
    }
  },
  "nbformat_minor": 4,
  "nbformat": 4,
  "cells": [
    {
      "cell_type": "code",
      "source": "seq=(\"CCGTCGTAGCACCGAGCCTCAGCACCACGAAAGAGATTGAAGTAGTTCCTCG\"\n\"GAAAGTTCTTCGACTCTTCCTTGAAACATGTCTTCCTGGAGCAACCAACCTGCCATGGATGATTATGGCCTGCCAT\"\n\"CCTCCAACCCTTATGGGAACTTCACAGTTGTGGACATGGCCCCTAAAGACATCCTTCACATGATTCATCCTCACTGGTACCAATATCCCCCCATG\"\n\"AACCCAATGATGTATCCATTACTTTTAATATTCATGCTCTTCACCGGCATACTCTGCCTGGCAGGTAACTTTGTTACCATCTGGGTGTTCATGAAC\"\n\"ACCAAATCTCTCCGCACTCCTGCCAATCTCCTTGTTGTTAACTTGGCCATGTCCGACTTCCTCATGATGTTCACTATGTTCCCTCCCATGATGGTCA\"\n\"CATGCTACTATCACACATGGACACTTGGCCCCACATTCTGTCAAGTTTATGCCTTCCTCGGAAACTTGTGCGGCTGTGCATCCATCTGGACGATGGT\"\n\"GTTCATCACCTTTGACCGCTATAATGTCATTGTTAAGGGAGTGGCTGGTGAGCCTCTTAGTACAAAGAAAGCATCTTTGTGGATATTAACAATATGGG\"\n\"TATTATCTATTACCTGGTGTATAGCACCATTCTTCGGCTGGAACCGCTACGTTCCCGAGGGCAACCTTACTGGCTGTGGTACTGATTATCTGTCTGAGGA\"\n\"CATTTTATCCCGCAGCTACCTATACGACTACTCCACATGGGTCTATTACCTCCCTCTATTACCAATCTATTGCTACGTTTCCATCATCAAGGCTGTTGCT\"\n\"GCCCACGAGAAAGGTATGCGTGATCAGGCCAAGAAGATGGGAATAAAGTCCCTGAGGAACGAAGAAGCACAGAAGACTTCTGCCGAGTGCCGCCTGGCCAA\"\n\"GATTGCTATGACGACAGTGGCTCTGTGGTTCATTGCTTGGACTCCCTATCTCCTCATCAACTGGGTCGGCATGTTCGCCAGGTCCTACCTGTCTCCTGTCT\"\n\"ATACCATCTGGGGCTACGTGTTCGCCAAGGCCAACGCTGTCTACAACCCTATTGTGTATGCCATCAGCCACCCCAAGTACCGCGCTGCCATGGAGAAGAAG\"\n\"CTGCCATGTCTCTCTTGCAAAACTGAAAGTGATGACGTTAGCGAAAGTGCCTCAACTACCACCAGCTCAGCGGAAGAAAAGGCAGAAAGTGCTTAGACTTTT\"\n\"GTGGGGAACTCCGTACTTCAACTGATCAACGACTGTATGCATATTATATATCATACAATGTAATTTAAAGTAATTCCCTAAATGGTAGCAATTTTCTAGATTC\"\n\"TAATAAACCCAGCATCAT\")",
      "metadata": {
        "tags": [],
        "trusted": true
      },
      "execution_count": 232,
      "outputs": []
    },
    {
      "cell_type": "code",
      "source": "def reader(seq,z,t): \n#seq is the sequence, \n#z is the minimum length of the ORF's we want to see \n#t gives options for seeing the whole translation (\"trans\"), the open reading frames (\"read\"), or both,(\"both\")    \n    def opener(aseq,z): #subfunction for finding ORF's\n    #initiliazing loop values\n        start=-1\n        orf=str()\n        for letter in (aseq): #aseq is the translated sequence we'll get from the rest of the program\n            if letter==\"M\":\n                start=(aseq.find(\"M\")) #gives index of first M\n            if letter==\"*\":\n                stop=(aseq.find(\"*\")) #gives index of first * that follows M\n                if (aseq[(start):stop])!= '': #prevents a 0-length ORF when there's a * with no preceding M\n                    if (len(aseq[(start):stop]))>=z: #only prints ORF's that are long enough\n                        orf= orf+(aseq[(start):stop])\n                        orf= orf+ (\"\\n >length:%s\") %(len(aseq[(start):stop]))\n                        orf= orf+ (\"\\n\")\n                else:\n                    pass\n                aseq=aseq[(aseq.find(\"*\")+1):] #chops off everything through the ORF we just read and starts over\n                m1=-1\n        if orf== \"\": \n            orf= orf+ (\">no_ORF<=%d \\n\")%(z)\n        print(orf)\n        \n    #converts codons to AA's\n    amdict= {\n    'TTT':'F',\n    'TTC':'F',\n    'TTG':'L',\n    'TTA':'L',\n    'TCT':'S',\n    'TCC':'S',\n    'TCA':'S',\n    'TCG':'S',\n    'TAT':'Y',\n    'TAC':'Y',\n    'TAA':'*',\n    'TAG':'*',\n    'TGT':'C',\n    'TGC':'C',\n    'TGA':'*',\n    'TGG':'W',\n    'CTT':'L',\n    'CTC':'L',\n    'CTA':'L',\n    'CTG':'L',\n    'CCT':'P',\n    'CCC':'P',\n    'CCA':'P',\n    'CCG':'P',\n    'CAT':'H',\n    'CAC':'H',\n    'CAA':'Q',\n    'CAG':'Q',\n    'CGT':'R',\n    'CGC':'R',\n    'CGA':'R',\n    'CGG':'R',\n    'ATT':'I',\n    'ATC':'I',\n    'ATA':'I',\n    'ATG':'M',\n    'ACT':'T',\n    'ACC':'T',\n    'ACA':'T',\n    'ACG':'T',\n    'AAT':'N',\n    'AAC':'N',\n    'AAA':'K',\n    'AAG':'K',\n    'AGT':'S',\n    'AGC':'S',\n    'AGA':'R',\n    'AGG':'R',\n    'GTT':'V',\n    'GTC':'V',\n    'GTA':'V',\n    'GTG':'V',\n    'GCT':'A',\n    'GCC':'A',\n    'GCA':'A',\n    'GCG':'A',\n    'GAT':'D',\n    'GAC':'D',\n    'GAA':'E',\n    'GAG':'E',\n    'GGT':'G',\n    'GGC':'G',\n    'GGA':'G',\n    'GGG':'G',\n    }\n    \n    #first three reading frames\n    pseq=seq\n    pseq2=seq[1:]\n    pseq3=seq[2:]\n\n    #finds complementary nucleotides for reading frames 4:6\n    ntidedict= { \n    'A':\"T\",\n    \"C\":\"G\",\n    \"G\":\"C\",\n    \"T\":\"A\",\n    }\n\n    #reading frames 4:6\n    rpseq=str() \n    for ntide in seq: #loop to reverse the sequence\n        rpseq= (ntidedict[ntide])+rpseq\n        rpseq2=rpseq[1:]\n        rpseq3=rpseq[2:]\n\n    i=0 #iterator to label each translation\n    for frame in [pseq,pseq2,pseq3,rpseq,rpseq2,rpseq3]:\n        aseq=str() #amino acid sequence\n        while len(frame)>2:\n            for codon in frame:\n                try:\n                    aseq+=(amdict[(frame[0:3])]) #translates one codon at a time\n                except:\n                    KeyError #prevents an error when we have left over nucleotides at the end of seq\n                finally: \n                    frame=frame[3:] #chops off the codon it just read\n        else: #ends the sequence when there are no codons left\n            #determines what parts to print out based on the input\n            i=i+1\n            if t==(\"both\"):\n                print( \">frame\"+str(i)+\"\\n\"+(aseq)+\"\\n\")\n                print (\">ORFs:\")\n                opener(aseq,z)\n            if t==(\"read\"):\n                print( \">frame\"+str(i))\n                opener(aseq,z)\n            if t==(\"trans\"):\n                print(\">frame\"+ str(i)+\"\\n\"+str(aseq)+\"\\n\")",
      "metadata": {
        "tags": [],
        "trusted": true
      },
      "execution_count": 233,
      "outputs": []
    },
    {
      "cell_type": "code",
      "source": "reader(seq,100,\"both\")",
      "metadata": {
        "tags": [],
        "trusted": true
      },
      "execution_count": 234,
      "outputs": [
        {
          "name": "stdout",
          "text": ">frame1\nPS*HRASAPRKRLK*FLGKFFDSSLKHVFLEQPTCHG*LWPAILQPLWELHSCGHGP*RHPSHDSSSLVPISPHEPNDVSITFNIHALHRHTLPGR*LCYHLGVHEHQISPHSCQSPCC*LGHVRLPHDVHYVPSHDGHMLLSHMDTWPHILSSLCLPRKLVRLCIHLDDGVHHL*PL*CHC*GSGW*AS*YKESIFVDINNMGIIYYLVYSTILRLEPLRSRGQPYWLWY*LSV*GHFIPQLPIRLLHMGLLPPSITNLLLRFHHQGCCCPRERYA*SGQEDGNKVPEERRSTEDFCRVPPGQDCYDDSGSVVHCLDSLSPHQLGRHVRQVLPVSCLYHLGLRVRQGQRCLQPYCVCHQPPQVPRCHGEEAAMSLLQN*K**R*RKCLNYHQLSGRKGRKCLDFCGELRTSTDQRLYAYYISYNVI*SNSLNGSNFLDSNKPSI\n\n>ORFs:\n>no_ORF<=100 \n\n>frame2\nRRSTEPQHHERD*SSSSESSSTLP*NMSSWSNQPAMDDYGLPSSNPYGNFTVVDMAPKDILHMIHPHWYQYPPMNPMMYPLLLIFMLFTGILCLAGNFVTIWVFMNTKSLRTPANLLVVNLAMSDFLMMFTMFPPMMVTCYYHTWTLGPTFCQVYAFLGNLCGCASIWTMVFITFDRYNVIVKGVAGEPLSTKKASLWILTIWVLSITWCIAPFFGWNRYVPEGNLTGCGTDYLSEDILSRSYLYDYSTWVYYLPLLPIYCYVSIIKAVAAHEKGMRDQAKKMGIKSLRNEEAQKTSAECRLAKIAMTTVALWFIAWTPYLLINWVGMFARSYLSPVYTIWGYVFAKANAVYNPIVYAISHPKYRAAMEKKLPCLSCKTESDDVSESASTTTSSAEEKAESA*TFVGNSVLQLINDCMHIIYHTM*FKVIP*MVAIF*ILINPAS\n\n>ORFs:\nMSSWSNQPAMDDYGLPSSNPYGNFTVVDMAPKDILHMIHPHWYQYPPMNPMMYPLLLIFMLFTGILCLAGNFVTIWVFMNTKSLRTPANLLVVNLAMSDFLMMFTMFPPMMVTCYYHTWTLGPTFCQVYAFLGNLCGCASIWTMVFITFDRYNVIVKGVAGEPLSTKKASLWILTIWVLSITWCIAPFFGWNRYVPEGNLTGCGTDYLSEDILSRSYLYDYSTWVYYLPLLPIYCYVSIIKAVAAHEKGMRDQAKKMGIKSLRNEEAQKTSAECRLAKIAMTTVALWFIAWTPYLLINWVGMFARSYLSPVYTIWGYVFAKANAVYNPIVYAISHPKYRAAMEKKLPCLSCKTESDDVSESASTTTSSAEEKAESA\n >length:376\n\n>frame3\nVVAPSLSTTKEIEVVPRKVLRLFLETCLPGATNLPWMIMACHPPTLMGTSQLWTWPLKTSFT*FILTGTNIPP*TQ*CIHYF*YSCSSPAYSAWQVTLLPSGCS*TPNLSALLPISLLLTWPCPTSS*CSLCSLP*WSHATITHGHLAPHSVKFMPSSETCAAVHPSGRWCSSPLTAIMSLLREWLVSLLVQRKHLCGY*QYGYYLLPGV*HHSSAGTATFPRATLLAVVLIICLRTFYPAATYTTTPHGSITSLYYQSIATFPSSRLLLPTRKVCVIRPRRWE*SP*GTKKHRRLLPSAAWPRLL*RQWLCGSLLGLPISSSTGSACSPGPTCLLSIPSGATCSPRPTLSTTLLCMPSATPSTALPWRRSCHVSLAKLKVMTLAKVPQLPPAQRKKRQKVLRLLWGTPYFN*STTVCILYIIQCNLK*FPKW*QFSRF**TQHH\n\n>ORFs:\n>no_ORF<=100 \n\n>frame4\nMMLGLLESRKLLPFRELL*ITLYDI*YAYSR*SVEVRSSPQKSKHFLPFLPLSWW*LRHFR*RHHFQFCKRDMAASSPWQRGTWGG*WHTQ*GCRQRWPWRTRSPRWYRQETGRTWRTCRPS**GDRESKQ*TTEPLSS*QSWPGGTRQKSSVLLRSSGTLFPSSWPDHAYLSRGQQQP**WKRSNRLVIEGGNRPMWSSRIGSCGIKCPQTDNQYHSQ*GCPRERSGSSRRMVLYTR**IIPILLISTKMLSLY*EAHQPLP*Q*HYSGQR**TPSSRWMHSRTSFRGRHKLDRMWGQVSMCDSSM*PSWEGT**TS*GSRTWPS*QQGDWQECGEIWCS*TPRW*QSYLPGRVCR*RA*ILKVMDTSLGSWGDIGTSEDESCEGCL*GPCPQL*SSHKGWRMAGHNHPWQVGCSRKTCFKEESKNFPRNYFNLFRGAEARCYD\n\n>ORFs:\n>no_ORF<=100 \n\n>frame5\n*CWVY*NLENCYHLGNYFKLHCMIYNMHTVVDQLKYGVPHKSLSTFCLFFR*AGGS*GTFANVITFSFARETWQLLLHGSAVLGVADGIHNRVVDSVGLGEHVAPDGIDRRQVGPGEHADPVDEEIGSPSNEPQSHCRHSNLGQAALGRSLLCFFVPQGLYSHLLGLITHTFLVGSNSLDDGNVAIDW**REVIDPCGVVV*VAAG*NVLRQIISTTASKVALGNVAVPAEEWCYTPGNR*YPYC*YPQRCFLCTKRLTSHSLNNDIIAVKGDEHHRPDGCTAAQVSEEGINLTECGAKCPCVIVACDHHGREHSEHHEEVGHGQVNNKEIGRSAERFGVHEHPDGNKVTCQAEYAGEEHEY*K*WIHHWVHGGILVPVRMNHVKDVFRGHVHNCEVPIRVGGWQAIIIHGRLVAPGRHVSRKSRRTFRGTTSISFVVLRLGATT\n\n>ORFs:\nQLLLHGSAVLGVADGIHNRVVDSVGLGEHVAPDGIDRRQVGPGEHADPVDEEIGSPSNEPQSHCRHSNLGQAALGRSLLCFFVPQGLYSHLLGLITHTFLVGSNSLDDGNVAIDW\n >length:115\nLNNDIIAVKGDEHHRPDGCTAAQVSEEGINLTECGAKCPCVIVACDHHGREHSEHHEEVGHGQVNNKEIGRSAERFGVHEHPDGNKVTCQAEYAGEEHEY\n >length:100\n\n>frame6\nDAGFIRI*KIATI*GITLNYIV*YIICIQSLIS*STEFPTKV*ALSAFSSAELVVVEALSLTSSLSVLQERHGSFFSMAARYLGWLMAYTIGL*TALALANT*PQMV*TGDR*DLANMPTQLMRR*GVQAMNHRATVVIAILARRHSAEVFCASSFLRDFIPIFLA*SRIPFSWAATALMMET*Q*IGNRGR**THVE*SYR*LRDKMSSDR*SVPQPVRLPSGT*RFQPKNGAIHQVIDNTHIVNIHKDAFFVLRGSPATPLTMTL*RSKVMNTIVQMDAQPHKFPRKA*T*QNVGPSVHV***HVTIMGGNIVNIMRKSDMAKLTTRRLAGVRRDLVFMNTQMVTKLPARQSMPVKSMNIKSNGYIIGFMGGYWYQ*G*IM*RMSLGAMSTTVKFP*GLEDGRP*SSMAGWLLQEDMFQGRVEELSEELLQSLSWC*GSVLRR\n\n>ORFs:\n>no_ORF<=100 \n\n",
          "output_type": "stream"
        }
      ]
    },
    {
      "cell_type": "code",
      "source": "def freq(seq):\n    A=0\n    G=0\n    C=0\n    T=0\n    for letter in seq:\n        if letter==\"A\":\n            A=A+1\n        if letter==\"G\":\n            G=G+1\n        if letter==\"C\":\n            C=C+1\n        if letter==\"T\":\n            T=T+1\n    X=A+T+G+C\n    print (\"Sums: A:\",A,\"G:\",G,\"T:\",T,\"C:\",C)\n    print (\"Frequencies:A:\",round(((A/X)),4),\"G:\",round(((G/X)),4),\"T:\",round(((T/X)),4),\"C:\",round((C/X),4))",
      "metadata": {
        "tags": [],
        "trusted": true
      },
      "execution_count": 235,
      "outputs": []
    },
    {
      "cell_type": "code",
      "source": "freq(seq)",
      "metadata": {
        "trusted": true
      },
      "execution_count": 236,
      "outputs": [
        {
          "name": "stdout",
          "text": "Sums: A: 332 G: 272 T: 373 C: 360\nFrequencies:A: 0.2483 G: 0.2034 T: 0.279 C: 0.2693\n",
          "output_type": "stream"
        }
      ]
    }
  ]
}