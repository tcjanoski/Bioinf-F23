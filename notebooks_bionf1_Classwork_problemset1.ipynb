{
  "metadata": {
    "toc-autonumbering": true,
    "toc-showcode": true,
    "language_info": {
      "codemirror_mode": {
        "name": "python",
        "version": 3
      },
      "file_extension": ".py",
      "mimetype": "text/x-python",
      "name": "python",
      "nbconvert_exporter": "python",
      "pygments_lexer": "ipython3",
      "version": "3.8"
    },
    "kernelspec": {
      "name": "python",
      "display_name": "Python (Pyodide)",
      "language": "python"
    }
  },
  "nbformat_minor": 4,
  "nbformat": 4,
  "cells": [
    {
      "cell_type": "code",
      "source": "seq=(\"CCGTCGTAGCACCGAGCCTCAGCACCACGAAAGAGATTGAAGTAGTTCCTCG\"\n\"GAAAGTTCTTCGACTCTTCCTTGAAACATGTCTTCCTGGAGCAACCAACCTGCCATGGATGATTATGGCCTGCCAT\"\n\"CCTCCAACCCTTATGGGAACTTCACAGTTGTGGACATGGCCCCTAAAGACATCCTTCACATGATTCATCCTCACTGGTACCAATATCCCCCCATG\"\n\"AACCCAATGATGTATCCATTACTTTTAATATTCATGCTCTTCACCGGCATACTCTGCCTGGCAGGTAACTTTGTTACCATCTGGGTGTTCATGAAC\"\n\"ACCAAATCTCTCCGCACTCCTGCCAATCTCCTTGTTGTTAACTTGGCCATGTCCGACTTCCTCATGATGTTCACTATGTTCCCTCCCATGATGGTCA\"\n\"CATGCTACTATCACACATGGACACTTGGCCCCACATTCTGTCAAGTTTATGCCTTCCTCGGAAACTTGTGCGGCTGTGCATCCATCTGGACGATGGT\"\n\"GTTCATCACCTTTGACCGCTATAATGTCATTGTTAAGGGAGTGGCTGGTGAGCCTCTTAGTACAAAGAAAGCATCTTTGTGGATATTAACAATATGGG\"\n\"TATTATCTATTACCTGGTGTATAGCACCATTCTTCGGCTGGAACCGCTACGTTCCCGAGGGCAACCTTACTGGCTGTGGTACTGATTATCTGTCTGAGGA\"\n\"CATTTTATCCCGCAGCTACCTATACGACTACTCCACATGGGTCTATTACCTCCCTCTATTACCAATCTATTGCTACGTTTCCATCATCAAGGCTGTTGCT\"\n\"GCCCACGAGAAAGGTATGCGTGATCAGGCCAAGAAGATGGGAATAAAGTCCCTGAGGAACGAAGAAGCACAGAAGACTTCTGCCGAGTGCCGCCTGGCCAA\"\n\"GATTGCTATGACGACAGTGGCTCTGTGGTTCATTGCTTGGACTCCCTATCTCCTCATCAACTGGGTCGGCATGTTCGCCAGGTCCTACCTGTCTCCTGTCT\"\n\"ATACCATCTGGGGCTACGTGTTCGCCAAGGCCAACGCTGTCTACAACCCTATTGTGTATGCCATCAGCCACCCCAAGTACCGCGCTGCCATGGAGAAGAAG\"\n\"CTGCCATGTCTCTCTTGCAAAACTGAAAGTGATGACGTTAGCGAAAGTGCCTCAACTACCACCAGCTCAGCGGAAGAAAAGGCAGAAAGTGCTTAGACTTTT\"\n\"GTGGGGAACTCCGTACTTCAACTGATCAACGACTGTATGCATATTATATATCATACAATGTAATTTAAAGTAATTCCCTAAATGGTAGCAATTTTCTAGATTC\"\n\"TAATAAACCCAGCATCAT\")",
      "metadata": {
        "tags": [],
        "trusted": true
      },
      "execution_count": 80,
      "outputs": []
    },
    {
      "cell_type": "code",
      "source": "#code for problem 1",
      "metadata": {
        "trusted": true
      },
      "execution_count": 81,
      "outputs": []
    },
    {
      "cell_type": "code",
      "source": "#reader can return all 6 translation frames and their open frames \n#opt gives options for seeing the translation (\"trans\"),the open reading frames (\"read\"),or both (\"both\")    \n#minl (optional) is the minimum length of the ORFs we want to see.\n#minl is defaulted to 0 so the function still runs with t set to trans\n\ndef reader(seq,opt,minl=0): \n    def opener(aseq,minl): #subfunction for finding ORF's\n    #initiliazing loop values\n        start=-1\n        orf=str()\n        for letter in (aseq): #aseq is the translated sequence\n            if letter==\"M\":\n                start=(aseq.find(\"M\")) #gives index of first M\n            if letter==\"*\":\n                stop=(aseq.find(\"*\")) #gives index of first * that follows M\n                if (aseq[(start):stop])!= '': #prevents a 0-length ORF when there's an * with no preceding M\n                    if (len(aseq[(start):stop]))>=minl: #only prints ORF's that are long enough\n                        orf= orf+(aseq[(start):stop])\n                        orf= orf+ (\"\\n length:%s\") %(len(aseq[(start):stop]))\n                        orf= orf+ (\"\\n\")\n                else:\n                    pass\n                aseq=aseq[(aseq.find(\"*\")+1):] #deletes up to the stop\n                m1=-1\n        if orf== \"\": \n            orf= orf+ (\"no ORFs at given length \\n\")\n        print(orf)\n        \n    #converts codons to AA's\n    amdict= {\n    'TTT':'F',\n    'TTC':'F',\n    'TTG':'L',\n    'TTA':'L',\n    'TCT':'S',\n    'TCC':'S',\n    'TCA':'S',\n    'TCG':'S',\n    'TAT':'Y',\n    'TAC':'Y',\n    'TAA':'*',\n    'TAG':'*',\n    'TGT':'C',\n    'TGC':'C',\n    'TGA':'*',\n    'TGG':'W',\n    'CTT':'L',\n    'CTC':'L',\n    'CTA':'L',\n    'CTG':'L',\n    'CCT':'P',\n    'CCC':'P',\n    'CCA':'P',\n    'CCG':'P',\n    'CAT':'H',\n    'CAC':'H',\n    'CAA':'Q',\n    'CAG':'Q',\n    'CGT':'R',\n    'CGC':'R',\n    'CGA':'R',\n    'CGG':'R',\n    'ATT':'I',\n    'ATC':'I',\n    'ATA':'I',\n    'ATG':'M',\n    'ACT':'T',\n    'ACC':'T',\n    'ACA':'T',\n    'ACG':'T',\n    'AAT':'N',\n    'AAC':'N',\n    'AAA':'K',\n    'AAG':'K',\n    'AGT':'S',\n    'AGC':'S',\n    'AGA':'R',\n    'AGG':'R',\n    'GTT':'V',\n    'GTC':'V',\n    'GTA':'V',\n    'GTG':'V',\n    'GCT':'A',\n    'GCC':'A',\n    'GCA':'A',\n    'GCG':'A',\n    'GAT':'D',\n    'GAC':'D',\n    'GAA':'E',\n    'GAG':'E',\n    'GGT':'G',\n    'GGC':'G',\n    'GGA':'G',\n    'GGG':'G',\n    }\n    \n    #first three reading frames\n    pseq=seq\n    pseq2=seq[1:]\n    pseq3=seq[2:]\n\n    #finds complementary nucleotides for reading frames 4:6\n    ntidedict= { \n    'A':\"T\",\n    \"C\":\"G\",\n    \"G\":\"C\",\n    \"T\":\"A\",\n    }\n\n    #reading frames 4:6\n    rpseq=str() \n    for ntide in seq: #loop to reverse the sequence\n        rpseq= (ntidedict[ntide])+rpseq\n    rpseq2=rpseq[1:]\n    rpseq3=rpseq[2:]\n\n    i=0 #iterator to label each translation\n    for frame in [pseq,pseq2,pseq3,rpseq,rpseq2,rpseq3]:\n        aseq=str() # initialize amino acid sequence str\n        while len(frame)>40:\n            for codon in frame:\n                try:\n                    aseq+=(amdict[(frame[0:3])]) #translates one codon at a time\n                except:\n                    KeyError #prevents an error when there are left over nucleotides at the end of seq\n                finally: \n                    frame=frame[3:] #deletes the codon it just read\n        else: #ends the sequence when there are no codons left\n            i=i+1\n            #the if statements determine which parts to output based on the opt statement\n            if opt==(\"both\"):\n                print( \">frame\"+str(i)+\"\\n\"+(aseq)+\"\\n\")\n                print (\"ORFs:\")\n                opener(aseq,minl)\n            if opt==(\"read\"):\n                print( \">frame\"+str(i))\n                opener(aseq,minl)\n            if opt==(\"trans\"):\n                print(\">frame\"+ str(i)+\"\\n\"+str(aseq)+\"\\n\")",
      "metadata": {
        "tags": [],
        "trusted": true
      },
      "execution_count": 82,
      "outputs": []
    },
    {
      "cell_type": "code",
      "source": "reader(seq,\"both\",20)",
      "metadata": {
        "trusted": true
      },
      "execution_count": 83,
      "outputs": [
        {
          "name": "stdout",
          "text": ">frame1\nPS*HRASAPRKRLK*FLGKFFDSSLKHVFLEQPTCHG*LWPAILQPLWELHSCGHGP*RHPSHDSSSLVPISPHEPNDVSITFNIHALHRHTLPGR*LCYHLGVHEHQISPHSCQSPCC*LGHVRLPHDVHYVPSHDGHMLLSHMDTWPHILSSLCLPRKLVRLCIHLDDGVHHL*PL*CHC*GSGW*AS*YKESIFVDINNMGIIYYLVYSTILRLEPLRSRGQPYWLWY*LSV*GHFIPQLPIRLLHMGLLPPSITNLLLRFHHQGCCCPRERYA*SGQEDGNKVPEERRSTEDFCRVPPGQDCYDDSGSVVHCLDSLSPHQLGRHVRQVLPVSCLYHLGLRVRQGQRCLQPYCVCHQPPQVPRCHGEEAAMSLLQN*K**R*RKCLNYHQLSGRKGRKCLDFCGELRTSTDQRLYAYYISYNVI*SNSLNGSNFLDSNKPSI\n\nORFs:\nMLLSHMDTWPHILSSLCLPRKLVRLCIHLDDGVHHL\n length:36\nMGIIYYLVYSTILRLEPLRSRGQPYWLWY\n length:29\nMGLLPPSITNLLLRFHHQGCCCPRERYA\n length:28\n\n>frame2\nRRSTEPQHHERD*SSSSESSSTLP*NMSSWSNQPAMDDYGLPSSNPYGNFTVVDMAPKDILHMIHPHWYQYPPMNPMMYPLLLIFMLFTGILCLAGNFVTIWVFMNTKSLRTPANLLVVNLAMSDFLMMFTMFPPMMVTCYYHTWTLGPTFCQVYAFLGNLCGCASIWTMVFITFDRYNVIVKGVAGEPLSTKKASLWILTIWVLSITWCIAPFFGWNRYVPEGNLTGCGTDYLSEDILSRSYLYDYSTWVYYLPLLPIYCYVSIIKAVAAHEKGMRDQAKKMGIKSLRNEEAQKTSAECRLAKIAMTTVALWFIAWTPYLLINWVGMFARSYLSPVYTIWGYVFAKANAVYNPIVYAISHPKYRAAMEKKLPCLSCKTESDDVSESASTTTSSAEEKAESA*TFVGNSVLQLINDCMHIIYHTM*FKVIP*MVAIF*ILINPAS\n\nORFs:\nMSSWSNQPAMDDYGLPSSNPYGNFTVVDMAPKDILHMIHPHWYQYPPMNPMMYPLLLIFMLFTGILCLAGNFVTIWVFMNTKSLRTPANLLVVNLAMSDFLMMFTMFPPMMVTCYYHTWTLGPTFCQVYAFLGNLCGCASIWTMVFITFDRYNVIVKGVAGEPLSTKKASLWILTIWVLSITWCIAPFFGWNRYVPEGNLTGCGTDYLSEDILSRSYLYDYSTWVYYLPLLPIYCYVSIIKAVAAHEKGMRDQAKKMGIKSLRNEEAQKTSAECRLAKIAMTTVALWFIAWTPYLLINWVGMFARSYLSPVYTIWGYVFAKANAVYNPIVYAISHPKYRAAMEKKLPCLSCKTESDDVSESASTTTSSAEEKAESA\n length:376\n\n>frame3\nVVAPSLSTTKEIEVVPRKVLRLFLETCLPGATNLPWMIMACHPPTLMGTSQLWTWPLKTSFT*FILTGTNIPP*TQ*CIHYF*YSCSSPAYSAWQVTLLPSGCS*TPNLSALLPISLLLTWPCPTSS*CSLCSLP*WSHATITHGHLAPHSVKFMPSSETCAAVHPSGRWCSSPLTAIMSLLREWLVSLLVQRKHLCGY*QYGYYLLPGV*HHSSAGTATFPRATLLAVVLIICLRTFYPAATYTTTPHGSITSLYYQSIATFPSSRLLLPTRKVCVIRPRRWE*SP*GTKKHRRLLPSAAWPRLL*RQWLCGSLLGLPISSSTGSACSPGPTCLLSIPSGATCSPRPTLSTTLLCMPSATPSTALPWRRSCHVSLAKLKVMTLAKVPQLPPAQRKKRQKVLRLLWGTPYFN*STTVCILYIIQCNLK*FPKW*QFSRF**TQHH\n\nORFs:\nMIMACHPPTLMGTSQLWTWPLKTSFT\n length:26\nMPSSETCAAVHPSGRWCSSPLTAIMSLLREWLVSLLVQRKHLCGY\n length:45\nVLIICLRTFYPAATYTTTPHGSITSLYYQSIATFPSSRLLLPTRKVCVIRPRRWE\n length:55\nMPSATPSTALPWRRSCHVSLAKLKVMTLAKVPQLPPAQRKKRQKVLRLLWGTPYFN\n length:56\n\n>frame4\nMMLGLLESRKLLPFRELL*ITLYDI*YAYSR*SVEVRSSPQKSKHFLPFLPLSWW*LRHFR*RHHFQFCKRDMAASSPWQRGTWGG*WHTQ*GCRQRWPWRTRSPRWYRQETGRTWRTCRPS**GDRESKQ*TTEPLSS*QSWPGGTRQKSSVLLRSSGTLFPSSWPDHAYLSRGQQQP**WKRSNRLVIEGGNRPMWSSRIGSCGIKCPQTDNQYHSQ*GCPRERSGSSRRMVLYTR**IIPILLISTKMLSLY*EAHQPLP*Q*HYSGQR**TPSSRWMHSRTSFRGRHKLDRMWGQVSMCDSSM*PSWEGT**TS*GSRTWPS*QQGDWQECGEIWCS*TPRW*QSYLPGRVCR*RA*ILKVMDTSLGSWGDIGTSEDESCEGCL*GPCPQL*SSHKGWRMAGHNHPWQVGCSRKTCFKEESKNFPRNYFNLFRGAEARCYD\n\nORFs:\nSVEVRSSPQKSKHFLPFLPLSWW\n length:23\nRSPRWYRQETGRTWRTCRPS\n length:20\nSSVLLRSSGTLFPSSWPDHAYLSRGQQQP\n length:29\nMWSSRIGSCGIKCPQTDNQYHSQ\n length:23\nMHSRTSFRGRHKLDRMWGQVSMCDSSM\n length:27\nMDTSLGSWGDIGTSEDESCEGCL\n length:23\n\n>frame5\n*CWVY*NLENCYHLGNYFKLHCMIYNMHTVVDQLKYGVPHKSLSTFCLFFR*AGGS*GTFANVITFSFARETWQLLLHGSAVLGVADGIHNRVVDSVGLGEHVAPDGIDRRQVGPGEHADPVDEEIGSPSNEPQSHCRHSNLGQAALGRSLLCFFVPQGLYSHLLGLITHTFLVGSNSLDDGNVAIDW**REVIDPCGVVV*VAAG*NVLRQIISTTASKVALGNVAVPAEEWCYTPGNR*YPYC*YPQRCFLCTKRLTSHSLNNDIIAVKGDEHHRPDGCTAAQVSEEGINLTECGAKCPCVIVACDHHGREHSEHHEEVGHGQVNNKEIGRSAERFGVHEHPDGNKVTCQAEYAGEEHEY*K*WIHHWVHGGILVPVRMNHVKDVFRGHVHNCEVPIRVGGWQAIIIHGRLVAPGRHVSRKSRRTFRGTTSISFVVLRLGATT\n\nORFs:\nMIYNMHTVVDQLKYGVPHKSLSTFCLFFR\n length:29\nQLLLHGSAVLGVADGIHNRVVDSVGLGEHVAPDGIDRRQVGPGEHADPVDEEIGSPSNEPQSHCRHSNLGQAALGRSLLCFFVPQGLYSHLLGLITHTFLVGSNSLDDGNVAIDW\n length:115\nLNNDIIAVKGDEHHRPDGCTAAQVSEEGINLTECGAKCPCVIVACDHHGREHSEHHEEVGHGQVNNKEIGRSAERFGVHEHPDGNKVTCQAEYAGEEHEY\n length:100\n\n>frame6\nDAGFIRI*KIATI*GITLNYIV*YIICIQSLIS*STEFPTKV*ALSAFSSAELVVVEALSLTSSLSVLQERHGSFFSMAARYLGWLMAYTIGL*TALALANT*PQMV*TGDR*DLANMPTQLMRR*GVQAMNHRATVVIAILARRHSAEVFCASSFLRDFIPIFLA*SRIPFSWAATALMMET*Q*IGNRGR**THVE*SYR*LRDKMSSDR*SVPQPVRLPSGT*RFQPKNGAIHQVIDNTHIVNIHKDAFFVLRGSPATPLTMTL*RSKVMNTIVQMDAQPHKFPRKA*T*QNVGPSVHV***HVTIMGGNIVNIMRKSDMAKLTTRRLAGVRRDLVFMNTQMVTKLPARQSMPVKSMNIKSNGYIIGFMGGYWYQ*G*IM*RMSLGAMSTTVKFP*GLEDGRP*SSMAGWLLQEDMFQGRVEELSEELLQSLSWC*GSVLRR\n\nORFs:\nMNHRATVVIAILARRHSAEVFCASSFLRDFIPIFLA\n length:36\nMGGNIVNIMRKSDMAKLTTRRLAGVRRDLVFMNTQMVTKLPARQSMPVKSMNIKSNGYIIGFMGGYWYQ\n length:69\nMAGWLLQEDMFQGRVEELSEELLQSLSWC\n length:29\n\n",
          "output_type": "stream"
        }
      ]
    },
    {
      "cell_type": "code",
      "source": "# code for problem 2",
      "metadata": {
        "tags": [],
        "trusted": true
      },
      "execution_count": 84,
      "outputs": []
    },
    {
      "cell_type": "code",
      "source": "def freq(seq):\n    A=0\n    G=0\n    C=0\n    T=0\n    for letter in seq:\n        if letter==\"A\":\n            A=A+1\n        if letter==\"G\":\n            G=G+1\n        if letter==\"C\":\n            C=C+1\n        if letter==\"T\":\n            T=T+1\n    X=A+T+G+C\n    print (\"Sums: A:\",A,\"G:\",G,\"T:\",T,\"C:\",C)\n    print (\"Frequencies:A:\",round(((A/X)),4),\"G:\",round(((G/X)),4),\"T:\",round(((T/X)),4),\"C:\",round((C/X),4))\n    print(X)",
      "metadata": {
        "trusted": true
      },
      "execution_count": 75,
      "outputs": []
    },
    {
      "cell_type": "code",
      "source": "freq(seq)",
      "metadata": {
        "trusted": true
      },
      "execution_count": 69,
      "outputs": [
        {
          "name": "stdout",
          "text": "Sums: A: 332 G: 272 T: 373 C: 360\nFrequencies:A: 0.2483 G: 0.2034 T: 0.279 C: 0.2693\n1337\n",
          "output_type": "stream"
        }
      ]
    },
    {
      "cell_type": "code",
      "source": "#code for problem 3",
      "metadata": {
        "trusted": true
      },
      "execution_count": 43,
      "outputs": []
    },
    {
      "cell_type": "code",
      "source": "#set frame equal to read 2 of the nucleotidesequence\nframe=(\"RRSTEPQHHERD*SSSSESSSTLP*NMSSWSNQPAMDDYGLPSSNPYGNFTVVDMAPKDILHMIHPHWYQYPPMNPMMYPLLLIFMLFTGILCLAGNFVTIWVFMNTKSLRTPANLLVVNLAMSDFLMMFTMFPPMMVTCYYHTWTLGPTFCQVYAFLGNLCGCASIWTMVFITFDRYNVIVKGVAGEPLSTKKASLWILTIWVLSITWCIAPFFGWNRYVPEGNLTGCGTDYLSEDILSRSYLYDYSTWVYYLPLLPIYCYVSIIKAVAAHEKGMRDQAKKMGIKSLRNEEAQKTSAECRLAKIAMTTVALWFIAWTPYLLINWVGMFARSYLSPVYTIWGYVFAKANAVYNPIVYAISHPKYRAAMEKKLPCLSCKTESDDVSESASTTTSSAEEKAESA*TFVGNSVLQLINDCMHIIYHTM*FKVIP*MVAIF*ILINPAS\")",
      "metadata": {
        "trusted": true
      },
      "execution_count": 44,
      "outputs": []
    },
    {
      "cell_type": "code",
      "source": "#find where the ORF starts\nframe.find(\"MSSWSNQPAMDDYGLPSSNPYGNFTVVDMAPKDILHMIHPHWYQYPPMNPMMYPLLLIFMLFTGILCLAGNFVTIWVFMNTKSLRTPANLLVVNLAMSDFLMMFTMFPPMMVTCYYHTWTLGPTFCQVYAFLGNLCGCASIWTMVFITFDRYNVIVKGVAGEPLSTKKASLWILTIWVLSITWCIAPFFGWNRYVPEGNLTGCGTDYLSEDILSRSYLYDYSTWVYYLPLLPIYCYVSIIKAVAAHEKGMRDQAKKMGIKSLRNEEAQKTSAECRLAKIAMTTVALWFIAWTPYLLINWVGMFARSYLSPVYTIWGYVFAKANAVYNPIVYAISHPKYRAAMEKKLPCLSCKTESDDVSESASTTTSSAEEKAESA\")",
      "metadata": {
        "trusted": true
      },
      "execution_count": 45,
      "outputs": [
        {
          "execution_count": 45,
          "output_type": "execute_result",
          "data": {
            "text/plain": "26"
          },
          "metadata": {}
        }
      ]
    },
    {
      "cell_type": "code",
      "source": "#find the corresponding range in the nucleotide sequence\nframe2=seq[1:]\nntORF=frame2[78:1209] ",
      "metadata": {
        "trusted": true
      },
      "execution_count": 46,
      "outputs": []
    },
    {
      "cell_type": "code",
      "source": "print(ntORF)",
      "metadata": {
        "trusted": true
      },
      "execution_count": 47,
      "outputs": [
        {
          "name": "stdout",
          "text": "ATGTCTTCCTGGAGCAACCAACCTGCCATGGATGATTATGGCCTGCCATCCTCCAACCCTTATGGGAACTTCACAGTTGTGGACATGGCCCCTAAAGACATCCTTCACATGATTCATCCTCACTGGTACCAATATCCCCCCATGAACCCAATGATGTATCCATTACTTTTAATATTCATGCTCTTCACCGGCATACTCTGCCTGGCAGGTAACTTTGTTACCATCTGGGTGTTCATGAACACCAAATCTCTCCGCACTCCTGCCAATCTCCTTGTTGTTAACTTGGCCATGTCCGACTTCCTCATGATGTTCACTATGTTCCCTCCCATGATGGTCACATGCTACTATCACACATGGACACTTGGCCCCACATTCTGTCAAGTTTATGCCTTCCTCGGAAACTTGTGCGGCTGTGCATCCATCTGGACGATGGTGTTCATCACCTTTGACCGCTATAATGTCATTGTTAAGGGAGTGGCTGGTGAGCCTCTTAGTACAAAGAAAGCATCTTTGTGGATATTAACAATATGGGTATTATCTATTACCTGGTGTATAGCACCATTCTTCGGCTGGAACCGCTACGTTCCCGAGGGCAACCTTACTGGCTGTGGTACTGATTATCTGTCTGAGGACATTTTATCCCGCAGCTACCTATACGACTACTCCACATGGGTCTATTACCTCCCTCTATTACCAATCTATTGCTACGTTTCCATCATCAAGGCTGTTGCTGCCCACGAGAAAGGTATGCGTGATCAGGCCAAGAAGATGGGAATAAAGTCCCTGAGGAACGAAGAAGCACAGAAGACTTCTGCCGAGTGCCGCCTGGCCAAGATTGCTATGACGACAGTGGCTCTGTGGTTCATTGCTTGGACTCCCTATCTCCTCATCAACTGGGTCGGCATGTTCGCCAGGTCCTACCTGTCTCCTGTCTATACCATCTGGGGCTACGTGTTCGCCAAGGCCAACGCTGTCTACAACCCTATTGTGTATGCCATCAGCCACCCCAAGTACCGCGCTGCCATGGAGAAGAAGCTGCCATGTCTCTCTTGCAAAACTGAAAGTGATGACGTTAGCGAAAGTGCCTCAACTACCACCAGCTCAGCGGAAGAAAAGGCAGAAAGTGCTTAG\n",
          "output_type": "stream"
        }
      ]
    },
    {
      "cell_type": "code",
      "source": "",
      "metadata": {},
      "execution_count": null,
      "outputs": []
    }
  ]
}
