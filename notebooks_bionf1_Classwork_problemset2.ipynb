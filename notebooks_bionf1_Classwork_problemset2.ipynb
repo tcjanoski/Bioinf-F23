{
  "metadata": {
    "language_info": {
      "codemirror_mode": {
        "name": "python",
        "version": 3
      },
      "file_extension": ".py",
      "mimetype": "text/x-python",
      "name": "python",
      "nbconvert_exporter": "python",
      "pygments_lexer": "ipython3",
      "version": "3.8"
    },
    "kernelspec": {
      "name": "python",
      "display_name": "Python (Pyodide)",
      "language": "python"
    }
  },
  "nbformat_minor": 4,
  "nbformat": 4,
  "cells": [
    {
      "cell_type": "code",
      "source": "typedict={\n    \"N\":\"polar\",\n    \"E\":\"negative\",\n    \"Q\":\"polar\",\n    \"H\":\"positive\",\n    \"K\":\"positive\",\n    \"R\":\"positive\",\n    \"D\":\"negative\",\n    \"G\":\"nonpolar\",\n    \"A\":\"nonpolar\",\n    \"S\":\"polar\",\n    \"T\":\"polar\",\n    \"Y\":\"nonpolar\",\n    \"W\":\"nonpolar\",\n    \"C\":\"polar\",\n    \"P\":\"nonpolar\",\n    \"V\":\"nonpolar\",\n    \"L\":\"nonpolar\",\n    \"I\":\"nonpolar\",\n    \"M\":\"nonpolar\",\n    \"F\":\"nonpolar\",\n    \"-\":\"stop\",\n    }",
      "metadata": {
        "trusted": true
      },
      "execution_count": 99,
      "outputs": []
    },
    {
      "cell_type": "code",
      "source": "seq=\"FDSSLKHVFLEQPTCHG-LWPAILQPLWELHSCGHGP-RHPSHDSSSLVP\"",
      "metadata": {
        "trusted": true
      },
      "execution_count": 100,
      "outputs": []
    },
    {
      "cell_type": "code",
      "source": "polar=0\nnonpolar=0\npositive=0\nnegative=0\nfor AA in seq:\n    if typedict[AA]==\"stop\":\n        pass\n    if typedict[AA]==\"polar\":\n        polar=polar+1\n    if typedict[AA]==\"nonpolar\":\n        nonpolar=nonpolar+1\n    if typedict[AA]==\"positive\":\n        positive=positive+1\n    if typedict[AA]==\"negative\":\n        negative=negative+1\ntotal=polar+nonpolar+positive+negative",
      "metadata": {
        "trusted": true
      },
      "execution_count": 101,
      "outputs": []
    },
    {
      "cell_type": "code",
      "source": "print (\"percentages:\\npolar:\", round((polar/total),2) , \"\\nnonpolar:\", round((nonpolar/total),2),\n\"\\npositive:\", round((positive/total),2), \"\\nnegative:\", round((negative/total),2),\n\"\\ncharged:\", round(((positive+negative)/total),2))",
      "metadata": {
        "trusted": true
      },
      "execution_count": 102,
      "outputs": [
        {
          "name": "stdout",
          "text": "percentages:\npolar: 0.25 \nnonpolar: 0.5 \npositive: 0.17 \nnegative: 0.08 \ncharged: 0.25\n",
          "output_type": "stream"
        }
      ]
    },
    {
      "cell_type": "code",
      "source": "seq=\"STLP-NMSSWSNQPAMDDYGLPSSNPYGNFTVVDMAPKDILHMIHPHWY\"",
      "metadata": {
        "trusted": true
      },
      "execution_count": 103,
      "outputs": []
    },
    {
      "cell_type": "code",
      "source": "for AA in seq:\n    if typedict[AA]==\"stop\":\n        pass\n    if typedict[AA]==\"polar\":\n        polar=polar+1\n    if typedict[AA]==\"nonpolar\":\n        nonpolar=nonpolar+1\n    if typedict[AA]==\"positive\":\n        positive=positive+1\n    if typedict[AA]==\"negative\":\n        negative=negative+1\ntotal=polar+nonpolar+positive+negative",
      "metadata": {
        "trusted": true
      },
      "execution_count": 104,
      "outputs": []
    },
    {
      "cell_type": "code",
      "source": "print (\"percentages:\\npolar:\", round((polar/total),2) , \"\\nnonpolar:\", round((nonpolar/total),2),\n\"\\npositive:\", round((positive/total),2), \"\\nnegative:\", round((negative/total),2),\n\"\\ncharged:\", round(((positive+negative)/total),2))",
      "metadata": {
        "trusted": true
      },
      "execution_count": 105,
      "outputs": [
        {
          "name": "stdout",
          "text": "percentages:\npolar: 0.26 \nnonpolar: 0.53 \npositive: 0.12 \nnegative: 0.08 \ncharged: 0.21\n",
          "output_type": "stream"
        }
      ]
    }
  ]
}